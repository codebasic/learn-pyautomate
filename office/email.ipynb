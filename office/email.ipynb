{
 "cells": [
  {
   "cell_type": "code",
   "execution_count": 1,
   "metadata": {
    "collapsed": true
   },
   "outputs": [],
   "source": [
    "import sys, os"
   ]
  },
  {
   "cell_type": "code",
   "execution_count": 2,
   "metadata": {
    "collapsed": true
   },
   "outputs": [],
   "source": [
    "sys.path.append(os.path.abspath('../lib/'))\n",
    "\n",
    "from bigpy import emailconfig, mail"
   ]
  },
  {
   "cell_type": "markdown",
   "metadata": {},
   "source": [
    "# 이메일 "
   ]
  },
  {
   "cell_type": "markdown",
   "metadata": {
    "collapsed": true
   },
   "source": [
    "# Gmail 인증"
   ]
  },
  {
   "cell_type": "code",
   "execution_count": 58,
   "metadata": {
    "collapsed": false
   },
   "outputs": [
    {
     "name": "stdout",
     "output_type": "stream",
     "text": [
      "To authorize token, visit this url and follow the directions:\n",
      "  https://accounts.google.com/o/oauth2/auth?client_id=753022363866-fer9g39ukpmeetglrrcv8fat7b10b80m.apps.googleusercontent.com&redirect_uri=urn%3Aietf%3Awg%3Aoauth%3A2.0%3Aoob&response_type=code&scope=https%3A%2F%2Fmail.google.com%2F\n",
      "Enter verification code: \n"
     ]
    }
   ],
   "source": [
    "ps = subprocess.run(['./setup_gmail.sh'], stdin=subprocess.PIPE, stdout=subprocess.PIPE)\n",
    "print(ps.stdout.decode('utf-8'))"
   ]
  },
  {
   "cell_type": "markdown",
   "metadata": {},
   "source": [
    "## 이메일 읽기 "
   ]
  },
  {
   "cell_type": "code",
   "execution_count": 2,
   "metadata": {
    "collapsed": false
   },
   "outputs": [
    {
     "name": "stdout",
     "output_type": "stream",
     "text": [
      "IMAPClient (1.0.1)  - Easy-to-use, Pythonic and complete IMAP client library\r\n",
      "\u001b[33mYou are using pip version 8.1.1, however version 8.1.2 is available.\r\n",
      "You should consider upgrading via the 'pip install --upgrade pip' command.\u001b[0m\r\n"
     ]
    }
   ],
   "source": [
    "!pip search imapclient"
   ]
  },
  {
   "cell_type": "code",
   "execution_count": 3,
   "metadata": {
    "collapsed": true
   },
   "outputs": [
    {
     "name": "stdout",
     "output_type": "stream",
     "text": [
      "Collecting imapclient\n",
      "  Downloading IMAPClient-1.0.1-py2.py3-none-any.whl (68kB)\n",
      "\u001b[K    100% |████████████████████████████████| 71kB 415kB/s \n",
      "\u001b[?25hCollecting mock==1.3.0 (from imapclient)\n",
      "  Downloading mock-1.3.0-py2.py3-none-any.whl (56kB)\n",
      "\u001b[K    100% |████████████████████████████████| 61kB 7.6MB/s \n",
      "\u001b[?25hRequirement already satisfied (use --upgrade to upgrade): six in /Users/seongjoo/anaconda/lib/python3.5/site-packages (from imapclient)\n",
      "Collecting backports.ssl>=0.0.9 (from imapclient)\n",
      "  Downloading backports.ssl-0.0.9.tar.gz\n",
      "Requirement already satisfied (use --upgrade to upgrade): pyopenssl>=0.15.1 in /Users/seongjoo/anaconda/lib/python3.5/site-packages (from imapclient)\n",
      "Collecting pbr>=0.11 (from mock==1.3.0->imapclient)\n",
      "  Downloading pbr-1.10.0-py2.py3-none-any.whl (96kB)\n",
      "\u001b[K    100% |████████████████████████████████| 102kB 1.1MB/s \n",
      "\u001b[?25hRequirement already satisfied (use --upgrade to upgrade): cryptography>=0.7 in /Users/seongjoo/anaconda/lib/python3.5/site-packages (from pyopenssl>=0.15.1->imapclient)\n",
      "Requirement already satisfied (use --upgrade to upgrade): idna>=2.0 in /Users/seongjoo/anaconda/lib/python3.5/site-packages (from cryptography>=0.7->pyopenssl>=0.15.1->imapclient)\n",
      "Requirement already satisfied (use --upgrade to upgrade): pyasn1>=0.1.8 in /Users/seongjoo/anaconda/lib/python3.5/site-packages (from cryptography>=0.7->pyopenssl>=0.15.1->imapclient)\n",
      "Requirement already satisfied (use --upgrade to upgrade): setuptools>=11.3 in /Users/seongjoo/anaconda/lib/python3.5/site-packages/setuptools-20.3-py3.5.egg (from cryptography>=0.7->pyopenssl>=0.15.1->imapclient)\n",
      "Requirement already satisfied (use --upgrade to upgrade): cffi>=1.4.1 in /Users/seongjoo/anaconda/lib/python3.5/site-packages (from cryptography>=0.7->pyopenssl>=0.15.1->imapclient)\n",
      "Requirement already satisfied (use --upgrade to upgrade): pycparser in /Users/seongjoo/anaconda/lib/python3.5/site-packages (from cffi>=1.4.1->cryptography>=0.7->pyopenssl>=0.15.1->imapclient)\n",
      "Building wheels for collected packages: backports.ssl\n",
      "  Running setup.py bdist_wheel for backports.ssl ... \u001b[?25l-\b \b\\\b \bdone\n",
      "\u001b[?25h  Stored in directory: /Users/seongjoo/Library/Caches/pip/wheels/cd/9d/13/e855020d39af904231165e7c92360527ef8d8c7595532b99e1\n",
      "Successfully built backports.ssl\n",
      "Installing collected packages: pbr, mock, backports.ssl, imapclient\n",
      "Successfully installed backports.ssl-0.0.9 imapclient-1.0.1 mock-1.3.0 pbr-1.10.0\n",
      "\u001b[33mYou are using pip version 8.1.1, however version 8.1.2 is available.\n",
      "You should consider upgrading via the 'pip install --upgrade pip' command.\u001b[0m\n"
     ]
    }
   ],
   "source": [
    "!pip install imapclient"
   ]
  },
  {
   "cell_type": "code",
   "execution_count": 3,
   "metadata": {
    "collapsed": false
   },
   "outputs": [],
   "source": [
    "gmail = mail.EmailClient('imap.gmail.com', ssl=True)"
   ]
  },
  {
   "cell_type": "markdown",
   "metadata": {},
   "source": [
    "OAuth2로 로그인"
   ]
  },
  {
   "cell_type": "markdown",
   "metadata": {},
   "source": [
    "Access Token 정보 가져오기"
   ]
  },
  {
   "cell_type": "code",
   "execution_count": 4,
   "metadata": {
    "collapsed": false
   },
   "outputs": [
    {
     "name": "stdout",
     "output_type": "stream",
     "text": [
      "접근 토큰:  ya29.CjAHA3IQXmue1H-8XyC2Uyqs5_n2TQq_PjC88mAuavR_hRJSpzxKcm_DCVSjvMuv1t4\n",
      "Config file oauth2.cfg updated.\n"
     ]
    }
   ],
   "source": [
    "access_token = emailconfig.get_access_token('oauth2.cfg', 'GMAIL', refresh=True)"
   ]
  },
  {
   "cell_type": "markdown",
   "metadata": {},
   "source": [
    "로그인"
   ]
  },
  {
   "cell_type": "code",
   "execution_count": 5,
   "metadata": {
    "collapsed": false
   },
   "outputs": [
    {
     "data": {
      "text/plain": [
       "[b'seongjoo@codebasic.co authenticated (Success)']"
      ]
     },
     "execution_count": 5,
     "metadata": {},
     "output_type": "execute_result"
    }
   ],
   "source": [
    "gmail.oauth2_login('seongjoo@codebasic.co', access_token)"
   ]
  },
  {
   "cell_type": "markdown",
   "metadata": {},
   "source": [
    "메일 상자 선택"
   ]
  },
  {
   "cell_type": "code",
   "execution_count": 6,
   "metadata": {
    "collapsed": false
   },
   "outputs": [
    {
     "data": {
      "text/plain": [
       "{b'EXISTS': 1000,\n",
       " b'FLAGS': (b'\\\\Answered',\n",
       "  b'\\\\Flagged',\n",
       "  b'\\\\Draft',\n",
       "  b'\\\\Deleted',\n",
       "  b'\\\\Seen',\n",
       "  b'$Forwarded',\n",
       "  b'$MailFlagBit0',\n",
       "  b'$MailFlagBit1',\n",
       "  b'$NotJunk',\n",
       "  b'$NotPhishing',\n",
       "  b'$Phishing',\n",
       "  b'NotJunk'),\n",
       " b'HIGHESTMODSEQ': 220087,\n",
       " b'PERMANENTFLAGS': (),\n",
       " b'READ-ONLY': [b''],\n",
       " b'RECENT': 0,\n",
       " b'UIDNEXT': 1321,\n",
       " b'UIDVALIDITY': 1}"
      ]
     },
     "execution_count": 6,
     "metadata": {},
     "output_type": "execute_result"
    }
   ],
   "source": [
    "gmail.select_folder('INBOX', readonly=True)"
   ]
  },
  {
   "cell_type": "markdown",
   "metadata": {},
   "source": [
    "제목 검색"
   ]
  },
  {
   "cell_type": "code",
   "execution_count": 7,
   "metadata": {
    "collapsed": false
   },
   "outputs": [
    {
     "name": "stdout",
     "output_type": "stream",
     "text": [
      "416 ['노현주', ' <hjooya@bloter.net>']\n",
      "Re: 빅파이 8월 강의 진행\n",
      "\n",
      "1314 ['전경민', ' <dovana2@gmail.com>']\n",
      "[빅파이] 전경민, 멀티캠퍼스\n",
      "\n",
      "1306 ['이진행', ' <jhlee@basis.co.kr>']\n",
      "[빅파이] 이진행, 멀티캠퍼스\n",
      "\n",
      "1318 ['장병욱', ' <bwjang0310@naver.com>']\n",
      "멀티캠퍼스 빅파이 수강생 장병욱입니다. \n",
      "\n",
      "424 ['노현주', ' <hjooya@bloter.net>']\n",
      "Re: 빅파이 8월 강의 진행\n",
      "\n",
      "425 ['노현주', ' <hjooya@bloter.net>']\n",
      "Re: 빅파이 8월 강의 진행\n",
      "\n",
      "427 ['노현주', ' <hjooya@bloter.net>']\n",
      "Re: 빅파이 8월 강의 진행\n",
      "\n",
      "429 ['노현주', ' <hjooya@bloter.net>']\n",
      "Re: 빅파이 8월 강의 진행\n",
      "\n",
      "430 ['노현주', ' <hjooya@bloter.net>']\n",
      "Re: 빅파이 8월 강의 진행\n",
      "\n",
      "765 ['Dongjun Suh <djsuh@kisti.re.kr>']\n",
      "빅파이 수업을 듣고있는 수강생입니다.\n",
      "\n",
      "392 ['노현주', ' <hjooya@bloter.net>']\n",
      "Re: 빅파이 35시간 기획\n",
      "\n",
      "1305 ['서종우', ' <sojongwoo@naver.com>']\n",
      "[빅파이]서종우, 멀티캠퍼스 \n",
      "\n",
      "440 ['노현주', ' <hjooya@bloter.net>']\n",
      "Re: 빅파이 8월 강의 진행\n",
      "\n",
      "409 ['노현주', ' <hjooya@bloter.net>']\n",
      "Re: 빅파이 35시간 기획\n",
      "\n",
      "410 ['노현주', ' <hjooya@bloter.net>']\n",
      "Re: 빅파이 35시간 기획\n",
      "\n",
      "1307 ['문미화', ' <greenamond@naver.com>']\n",
      "[빅파이] 문미화, 멀티캠퍼스\n",
      "\n",
      "1308 ['윤군', ' <koon74@naver.com>']\n",
      "[빅파이] 윤군, 멀티캠퍼스\n",
      "\n",
      "413 ['노현주', ' <hjooya@bloter.net>']\n",
      "Re: 빅파이 8월 강의 진행\n",
      "\n",
      "1310 ['kyung tae jung <amadeusjkt@gmail.com>']\n",
      "[빅파이] 정경태, 멀티캠퍼스\n",
      "\n",
      "1320 ['김재희', ' <jaehei@knfc.co.kr>']\n",
      "[빅파이] 김재희, 멀티캠퍼스\n",
      "\n"
     ]
    }
   ],
   "source": [
    "message_ids = gmail.search(['SUBJECT', '빅파이', 'TO', 'seongjoo@codebasic.co'])\n",
    "for subject in gmail.get_subjects(message_ids):\n",
    "    print(subject['ID'], end=' ')\n",
    "    print(subject['FROM'])\n",
    "    print(subject['Subject'], end='\\n\\n')"
   ]
  },
  {
   "cell_type": "code",
   "execution_count": 9,
   "metadata": {
    "collapsed": false
   },
   "outputs": [],
   "source": [
    "msgs = gmail.get_messages(message_ids)"
   ]
  },
  {
   "cell_type": "code",
   "execution_count": 10,
   "metadata": {
    "collapsed": false
   },
   "outputs": [
    {
     "data": {
      "text/plain": [
       "[(416, <email.message.Message at 0x10ccd52b0>),\n",
       " (1314, <email.message.Message at 0x10ccd57b8>),\n",
       " (1306, <email.message.Message at 0x10c8720b8>),\n",
       " (1318, <email.message.Message at 0x10c872c88>),\n",
       " (424, <email.message.Message at 0x10c8724e0>),\n",
       " (425, <email.message.Message at 0x10c8729b0>),\n",
       " (427, <email.message.Message at 0x10cccc0b8>),\n",
       " (429, <email.message.Message at 0x10cccc940>),\n",
       " (430, <email.message.Message at 0x10cccc198>),\n",
       " (765, <email.message.Message at 0x10c84cda0>),\n",
       " (392, <email.message.Message at 0x10c84cb70>),\n",
       " (1305, <email.message.Message at 0x10c84ce48>),\n",
       " (440, <email.message.Message at 0x10c87f208>),\n",
       " (409, <email.message.Message at 0x10c87f080>),\n",
       " (410, <email.message.Message at 0x10c87f940>),\n",
       " (1307, <email.message.Message at 0x10ccdf898>),\n",
       " (1308, <email.message.Message at 0x10ccdf438>),\n",
       " (413, <email.message.Message at 0x10ccdfa90>),\n",
       " (1310, <email.message.Message at 0x10cce82e8>),\n",
       " (1320, <email.message.Message at 0x10cce85c0>)]"
      ]
     },
     "execution_count": 10,
     "metadata": {},
     "output_type": "execute_result"
    }
   ],
   "source": [
    "msgs"
   ]
  },
  {
   "cell_type": "markdown",
   "metadata": {},
   "source": [
    "로그아웃"
   ]
  },
  {
   "cell_type": "code",
   "execution_count": 9,
   "metadata": {
    "collapsed": false
   },
   "outputs": [
    {
     "data": {
      "text/plain": [
       "b'LOGOUT Requested'"
      ]
     },
     "execution_count": 9,
     "metadata": {},
     "output_type": "execute_result"
    }
   ],
   "source": [
    "gmail.logout()"
   ]
  },
  {
   "cell_type": "code",
   "execution_count": null,
   "metadata": {
    "collapsed": true
   },
   "outputs": [],
   "source": []
  }
 ],
 "metadata": {
  "kernelspec": {
   "display_name": "Python 3",
   "language": "python",
   "name": "python3"
  },
  "language_info": {
   "codemirror_mode": {
    "name": "ipython",
    "version": 3
   },
   "file_extension": ".py",
   "mimetype": "text/x-python",
   "name": "python",
   "nbconvert_exporter": "python",
   "pygments_lexer": "ipython3",
   "version": "3.5.1"
  }
 },
 "nbformat": 4,
 "nbformat_minor": 0
}

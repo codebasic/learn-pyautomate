{
 "cells": [
  {
   "cell_type": "markdown",
   "metadata": {},
   "source": [
    "# Office Word"
   ]
  },
  {
   "cell_type": "code",
   "execution_count": 2,
   "metadata": {
    "collapsed": false
   },
   "outputs": [],
   "source": [
    "from bigpython import office"
   ]
  },
  {
   "cell_type": "markdown",
   "metadata": {},
   "source": [
    "## 워드 파일 읽기 "
   ]
  },
  {
   "cell_type": "code",
   "execution_count": 3,
   "metadata": {
    "collapsed": false
   },
   "outputs": [],
   "source": [
    "doc = office.Word('../data/turing.docx')"
   ]
  },
  {
   "cell_type": "markdown",
   "metadata": {},
   "source": [
    "### 문단 "
   ]
  },
  {
   "cell_type": "code",
   "execution_count": 4,
   "metadata": {
    "collapsed": false
   },
   "outputs": [
    {
     "data": {
      "text/plain": [
       "'앨런 튜링'"
      ]
     },
     "execution_count": 4,
     "metadata": {},
     "output_type": "execute_result"
    }
   ],
   "source": [
    "doc.paragraphs[0].text"
   ]
  },
  {
   "cell_type": "code",
   "execution_count": 5,
   "metadata": {
    "collapsed": false
   },
   "outputs": [
    {
     "data": {
      "text/plain": [
       "''"
      ]
     },
     "execution_count": 5,
     "metadata": {},
     "output_type": "execute_result"
    }
   ],
   "source": [
    "doc.paragraphs[1].text"
   ]
  },
  {
   "cell_type": "code",
   "execution_count": 6,
   "metadata": {
    "collapsed": false
   },
   "outputs": [
    {
     "data": {
      "text/plain": [
       "'앨런 매티슨 튜링(영어: Alan Mathison Turing, OBE, FRS, 1912년 6월 23일 ~ 1954년 6월 7일)은 영국의 수학자, 암호학자, 논리학자이자 컴퓨터 과학의 선구적 인물이다. 알고리즘과 계산 개념을 튜링 기계라는 추상 모델을 통해 형식화함으로써 컴퓨터 과학의 발전에 지대한 공헌을 했다.[2][3][4] 튜링 테스트의 고안으로도 유명하다. ACM에서 컴퓨터 과학에 중요한 업적을 남긴 사람들에게 매년 시상하는 튜링상은 그의 이름을 따 제정한 것이다. 이론 컴퓨터 과학과 인공지능 분야에 지대한 공헌을 했기 때문에 \"컴퓨터 과학의 아버지\"라고 불린다.'"
      ]
     },
     "execution_count": 6,
     "metadata": {},
     "output_type": "execute_result"
    }
   ],
   "source": [
    "doc.paragraphs[2].text"
   ]
  },
  {
   "cell_type": "code",
   "execution_count": 7,
   "metadata": {
    "collapsed": false
   },
   "outputs": [
    {
     "name": "stdout",
     "output_type": "stream",
     "text": [
      "앨런 튜링\n",
      "\n",
      "앨런 매티슨 튜링(영어: Alan Mathison Turing, OBE, FRS, 1912년 6월 23일 ~ 1954년 6월 7일)은 영국의 수학자, 암호학자, 논리학자이자 컴퓨터 과학의 선구적 인물이다. 알고리즘과 계산 개념을 튜링 기계라는 추상 모델을 통해 형식화함으로써 컴퓨터 과학의 발전에 지대한 공헌을 했다.[2][3][4] 튜링 테스트의 고안으로도 유명하다. ACM에서 컴퓨터 과학에 중요한 업적을 남긴 사람들에게 매년 시상하는 튜링상은 그의 이름을 따 제정한 것이다. 이론 컴퓨터 과학과 인공지능 분야에 지대한 공헌을 했기 때문에 \"컴퓨터 과학의 아버지\"라고 불린다.\n",
      "\n",
      "1945년에 그가 고안한 튜링 머신은 초보적 형태의 컴퓨터로, 복잡한 계산과 논리 문제를 처리할 수 있었다. 하지만 튜링은 1952년에 당시에는 범죄로 취급되던 동성애 혐의로 영국 경찰에 체포돼 유죄 판결을 받았다.[5] 감옥에 가는 대신 화학적 거세를 받아야 했던 그는, 2년 뒤 청산가리를 넣은 사과를 먹고 자살했다.[5]\n",
      "\n",
      "사후 59년만인 2013년 12월 24일에 엘리자베스 2세 여왕이 크리스 그레일링 법무부 장관의 건의를 받아들여 튜링의 동성애 죄를 사면하였다. 이어서 무죄 판결을 받고 복권되었다.[5]\n",
      "\n",
      "\n"
     ]
    }
   ],
   "source": [
    "print(doc.extract_text())"
   ]
  },
  {
   "cell_type": "markdown",
   "metadata": {},
   "source": [
    "### 표 "
   ]
  },
  {
   "cell_type": "code",
   "execution_count": 8,
   "metadata": {
    "collapsed": false
   },
   "outputs": [
    {
     "data": {
      "text/html": [
       "<div>\n",
       "<table border=\"1\" class=\"dataframe\">\n",
       "  <thead>\n",
       "    <tr style=\"text-align: right;\">\n",
       "      <th></th>\n",
       "      <th>0</th>\n",
       "      <th>1</th>\n",
       "    </tr>\n",
       "  </thead>\n",
       "  <tbody>\n",
       "    <tr>\n",
       "      <th>0</th>\n",
       "      <td>연도</td>\n",
       "      <td>요약</td>\n",
       "    </tr>\n",
       "    <tr>\n",
       "      <th>1</th>\n",
       "      <td>1912년</td>\n",
       "      <td>6월 23일 앨런 매시슨 튜링(Alan Mathison Turing), 런던에서 출...</td>\n",
       "    </tr>\n",
       "    <tr>\n",
       "      <th>2</th>\n",
       "      <td>1926년</td>\n",
       "      <td>셔본 스쿨(Sherborne School) 입학</td>\n",
       "    </tr>\n",
       "    <tr>\n",
       "      <th>3</th>\n",
       "      <td>1931년</td>\n",
       "      <td>수학 연구를 위해 케임브리지 대학교 킹스 칼리지에 입학</td>\n",
       "    </tr>\n",
       "    <tr>\n",
       "      <th>4</th>\n",
       "      <td>1934년</td>\n",
       "      <td>수학 학사학위 취득</td>\n",
       "    </tr>\n",
       "    <tr>\n",
       "      <th>5</th>\n",
       "      <td>1935년</td>\n",
       "      <td>확률론 계산에서 중심극한정리에 관한 학위논문으로 킹스 칼리지 특별 연구원 취득</td>\n",
       "    </tr>\n",
       "    <tr>\n",
       "      <th>6</th>\n",
       "      <td>1936년</td>\n",
       "      <td>다비트 힐베르트가 제시한 결정가능성 문제(Entscheidungsproblem)의 ...</td>\n",
       "    </tr>\n",
       "    <tr>\n",
       "      <th>7</th>\n",
       "      <td>1936년</td>\n",
       "      <td>알론조 처치, 존 폰 노이만 등과 함께 프린스턴 대학교에서 연구 지속</td>\n",
       "    </tr>\n",
       "    <tr>\n",
       "      <th>8</th>\n",
       "      <td>1937년</td>\n",
       "      <td>《런던 수학협회 의사록》 중 〈계산 가능한 수와 결정할 문제에의 응용〉 출간</td>\n",
       "    </tr>\n",
       "    <tr>\n",
       "      <th>9</th>\n",
       "      <td>1937년</td>\n",
       "      <td>프린스턴 대학교에서 프록터(Procter)장학금 수여</td>\n",
       "    </tr>\n",
       "    <tr>\n",
       "      <th>10</th>\n",
       "      <td>1938년</td>\n",
       "      <td>영국으로 들어와 정부암호학교(Goverment Code and Cypher Scho...</td>\n",
       "    </tr>\n",
       "    <tr>\n",
       "      <th>11</th>\n",
       "      <td>1939년</td>\n",
       "      <td>9월 1일, 제2차 세계 대전 시작</td>\n",
       "    </tr>\n",
       "    <tr>\n",
       "      <th>12</th>\n",
       "      <td>1939년</td>\n",
       "      <td>블레츨리 파크(Bletchley Park)의 GCCS 부서에서 영국을 포위하고 있는...</td>\n",
       "    </tr>\n",
       "    <tr>\n",
       "      <th>13</th>\n",
       "      <td>1942년</td>\n",
       "      <td>GCCS를 위한 수석 연구 자문위원</td>\n",
       "    </tr>\n",
       "    <tr>\n",
       "      <th>14</th>\n",
       "      <td>1942년</td>\n",
       "      <td>미국 암호부서와의 접촉을 위해 미국에 비밀리에 입국</td>\n",
       "    </tr>\n",
       "    <tr>\n",
       "      <th>15</th>\n",
       "      <td>1943년</td>\n",
       "      <td>1-3월간 벨 연구소에서 음성 해독 문제에 관해 작업</td>\n",
       "    </tr>\n",
       "    <tr>\n",
       "      <th>16</th>\n",
       "      <td>1944년</td>\n",
       "      <td>음성 암호화 전자기 델리아(Deliah) Ⅰ에 대한 작업 실시</td>\n",
       "    </tr>\n",
       "    <tr>\n",
       "      <th>17</th>\n",
       "      <td>1945년</td>\n",
       "      <td>제2차 세계 대전 종료</td>\n",
       "    </tr>\n",
       "    <tr>\n",
       "      <th>18</th>\n",
       "      <td>1945년</td>\n",
       "      <td>컴퓨터의 자동 계산 기계(Automatic Computing Engine; ACE)...</td>\n",
       "    </tr>\n",
       "    <tr>\n",
       "      <th>19</th>\n",
       "      <td>1947년</td>\n",
       "      <td>행정적, 이론적 이유로 NPL을 떠나 케임브리지로 돌아옴</td>\n",
       "    </tr>\n",
       "    <tr>\n",
       "      <th>20</th>\n",
       "      <td>1947년</td>\n",
       "      <td>생리학과 신경과학 수업 수강</td>\n",
       "    </tr>\n",
       "    <tr>\n",
       "      <th>21</th>\n",
       "      <td>1948년</td>\n",
       "      <td>6월 실용화될 컴퓨터의 원형에 대한 작업을 위해 맨체스터 대학교 정보과학팀 합류</td>\n",
       "    </tr>\n",
       "    <tr>\n",
       "      <th>22</th>\n",
       "      <td>1950년</td>\n",
       "      <td>철학지 《Mind》에 논문 〈계산기와 지능〉 게재</td>\n",
       "    </tr>\n",
       "    <tr>\n",
       "      <th>23</th>\n",
       "      <td>1951년</td>\n",
       "      <td>왕립 학회 특별회원으로 선출</td>\n",
       "    </tr>\n",
       "    <tr>\n",
       "      <th>24</th>\n",
       "      <td>1951년</td>\n",
       "      <td>동성애 혐의로 재판을 받고 여성호르몬을 투여하는 형을 받음</td>\n",
       "    </tr>\n",
       "    <tr>\n",
       "      <th>25</th>\n",
       "      <td>1952년</td>\n",
       "      <td>《왕립 학회 회보》에 논문 〈형태 발생의 화학적 토대〉게재</td>\n",
       "    </tr>\n",
       "    <tr>\n",
       "      <th>26</th>\n",
       "      <td>1954년</td>\n",
       "      <td>약간의 사이안화 칼륨에 담가 놓았던 사과를 먹음으로써 윔슬로에 있는 자택에서 6월 ...</td>\n",
       "    </tr>\n",
       "    <tr>\n",
       "      <th>27</th>\n",
       "      <td>2013년</td>\n",
       "      <td>(사망 이후) 동성애 혐의에 대한 유죄가 정식으로 국왕 칙령을 통하여 사면됨</td>\n",
       "    </tr>\n",
       "  </tbody>\n",
       "</table>\n",
       "</div>"
      ],
      "text/plain": [
       "        0                                                  1\n",
       "0      연도                                                 요약\n",
       "1   1912년  6월 23일 앨런 매시슨 튜링(Alan Mathison Turing), 런던에서 출...\n",
       "2   1926년                         셔본 스쿨(Sherborne School) 입학\n",
       "3   1931년                     수학 연구를 위해 케임브리지 대학교 킹스 칼리지에 입학\n",
       "4   1934년                                         수학 학사학위 취득\n",
       "5   1935년        확률론 계산에서 중심극한정리에 관한 학위논문으로 킹스 칼리지 특별 연구원 취득\n",
       "6   1936년  다비트 힐베르트가 제시한 결정가능성 문제(Entscheidungsproblem)의 ...\n",
       "7   1936년             알론조 처치, 존 폰 노이만 등과 함께 프린스턴 대학교에서 연구 지속\n",
       "8   1937년         《런던 수학협회 의사록》 중 〈계산 가능한 수와 결정할 문제에의 응용〉 출간\n",
       "9   1937년                      프린스턴 대학교에서 프록터(Procter)장학금 수여\n",
       "10  1938년  영국으로 들어와 정부암호학교(Goverment Code and Cypher Scho...\n",
       "11  1939년                                9월 1일, 제2차 세계 대전 시작\n",
       "12  1939년  블레츨리 파크(Bletchley Park)의 GCCS 부서에서 영국을 포위하고 있는...\n",
       "13  1942년                                GCCS를 위한 수석 연구 자문위원\n",
       "14  1942년                       미국 암호부서와의 접촉을 위해 미국에 비밀리에 입국\n",
       "15  1943년                      1-3월간 벨 연구소에서 음성 해독 문제에 관해 작업\n",
       "16  1944년                 음성 암호화 전자기 델리아(Deliah) Ⅰ에 대한 작업 실시\n",
       "17  1945년                                       제2차 세계 대전 종료\n",
       "18  1945년  컴퓨터의 자동 계산 기계(Automatic Computing Engine; ACE)...\n",
       "19  1947년                    행정적, 이론적 이유로 NPL을 떠나 케임브리지로 돌아옴\n",
       "20  1947년                                    생리학과 신경과학 수업 수강\n",
       "21  1948년       6월 실용화될 컴퓨터의 원형에 대한 작업을 위해 맨체스터 대학교 정보과학팀 합류\n",
       "22  1950년                        철학지 《Mind》에 논문 〈계산기와 지능〉 게재\n",
       "23  1951년                                    왕립 학회 특별회원으로 선출\n",
       "24  1951년                   동성애 혐의로 재판을 받고 여성호르몬을 투여하는 형을 받음\n",
       "25  1952년                   《왕립 학회 회보》에 논문 〈형태 발생의 화학적 토대〉게재\n",
       "26  1954년  약간의 사이안화 칼륨에 담가 놓았던 사과를 먹음으로써 윔슬로에 있는 자택에서 6월 ...\n",
       "27  2013년         (사망 이후) 동성애 혐의에 대한 유죄가 정식으로 국왕 칙령을 통하여 사면됨"
      ]
     },
     "execution_count": 8,
     "metadata": {},
     "output_type": "execute_result"
    }
   ],
   "source": [
    "표 = doc.extract_tables()\n",
    "표"
   ]
  },
  {
   "cell_type": "markdown",
   "metadata": {},
   "source": [
    "#### 여러 개의 표"
   ]
  },
  {
   "cell_type": "code",
   "execution_count": 9,
   "metadata": {
    "collapsed": false
   },
   "outputs": [],
   "source": [
    "doc = office.Word('../data/NCSOFT.docx')"
   ]
  },
  {
   "cell_type": "code",
   "execution_count": 10,
   "metadata": {
    "collapsed": true
   },
   "outputs": [],
   "source": [
    "표목록 = doc.extract_tables()"
   ]
  },
  {
   "cell_type": "code",
   "execution_count": 11,
   "metadata": {
    "collapsed": false
   },
   "outputs": [
    {
     "data": {
      "text/html": [
       "<div>\n",
       "<table border=\"1\" class=\"dataframe\">\n",
       "  <thead>\n",
       "    <tr style=\"text-align: right;\">\n",
       "      <th></th>\n",
       "      <th>0</th>\n",
       "      <th>1</th>\n",
       "      <th>2</th>\n",
       "    </tr>\n",
       "  </thead>\n",
       "  <tbody>\n",
       "    <tr>\n",
       "      <th>0</th>\n",
       "      <td>제목</td>\n",
       "      <td>장르</td>\n",
       "      <td>플랫폼</td>\n",
       "    </tr>\n",
       "    <tr>\n",
       "      <th>1</th>\n",
       "      <td>리니지</td>\n",
       "      <td>MMORPG</td>\n",
       "      <td>PC</td>\n",
       "    </tr>\n",
       "    <tr>\n",
       "      <th>2</th>\n",
       "      <td>리니지2</td>\n",
       "      <td>MMORPG</td>\n",
       "      <td>PC</td>\n",
       "    </tr>\n",
       "    <tr>\n",
       "      <th>3</th>\n",
       "      <td>리니지2</td>\n",
       "      <td>MMORPG</td>\n",
       "      <td>PC</td>\n",
       "    </tr>\n",
       "    <tr>\n",
       "      <th>4</th>\n",
       "      <td>아이온: 영원의 탑</td>\n",
       "      <td>MMORPG</td>\n",
       "      <td>PC</td>\n",
       "    </tr>\n",
       "    <tr>\n",
       "      <th>5</th>\n",
       "      <td>아이온: 영원의 탑</td>\n",
       "      <td>MMORPG</td>\n",
       "      <td>PC</td>\n",
       "    </tr>\n",
       "    <tr>\n",
       "      <th>6</th>\n",
       "      <td>블레이드 앤 소울</td>\n",
       "      <td>MMORPG</td>\n",
       "      <td>PC</td>\n",
       "    </tr>\n",
       "    <tr>\n",
       "      <th>7</th>\n",
       "      <td>길드워</td>\n",
       "      <td>MMORPG</td>\n",
       "      <td>PC</td>\n",
       "    </tr>\n",
       "    <tr>\n",
       "      <th>8</th>\n",
       "      <td>길드워</td>\n",
       "      <td>MMORPG</td>\n",
       "      <td>PC</td>\n",
       "    </tr>\n",
       "    <tr>\n",
       "      <th>9</th>\n",
       "      <td>길드워2</td>\n",
       "      <td>MMORPG</td>\n",
       "      <td>PC</td>\n",
       "    </tr>\n",
       "    <tr>\n",
       "      <th>10</th>\n",
       "      <td>와일드 스타</td>\n",
       "      <td>MMORPG</td>\n",
       "      <td>PC</td>\n",
       "    </tr>\n",
       "    <tr>\n",
       "      <th>11</th>\n",
       "      <td>MXM</td>\n",
       "      <td>슈팅 액션</td>\n",
       "      <td>PC</td>\n",
       "    </tr>\n",
       "    <tr>\n",
       "      <th>12</th>\n",
       "      <td>작룡문</td>\n",
       "      <td>보드게임</td>\n",
       "      <td>PC</td>\n",
       "    </tr>\n",
       "    <tr>\n",
       "      <th>13</th>\n",
       "      <td>시티 오브 히어로</td>\n",
       "      <td>MMORPG</td>\n",
       "      <td>PC</td>\n",
       "    </tr>\n",
       "    <tr>\n",
       "      <th>14</th>\n",
       "      <td>마법학교 아르피아</td>\n",
       "      <td>MMORPG</td>\n",
       "      <td>PC</td>\n",
       "    </tr>\n",
       "    <tr>\n",
       "      <th>15</th>\n",
       "      <td>비쥬마츄</td>\n",
       "      <td>퍼즐게임</td>\n",
       "      <td>PC</td>\n",
       "    </tr>\n",
       "    <tr>\n",
       "      <th>16</th>\n",
       "      <td>명인장기</td>\n",
       "      <td>보드게임</td>\n",
       "      <td>PC</td>\n",
       "    </tr>\n",
       "    <tr>\n",
       "      <th>17</th>\n",
       "      <td>클래식맞고</td>\n",
       "      <td>보드게임</td>\n",
       "      <td>PC</td>\n",
       "    </tr>\n",
       "    <tr>\n",
       "      <th>18</th>\n",
       "      <td>선언맞고</td>\n",
       "      <td>보드게임</td>\n",
       "      <td>PC</td>\n",
       "    </tr>\n",
       "    <tr>\n",
       "      <th>19</th>\n",
       "      <td>골든포커</td>\n",
       "      <td>보드게임</td>\n",
       "      <td>PC</td>\n",
       "    </tr>\n",
       "    <tr>\n",
       "      <th>20</th>\n",
       "      <td>미션아르피아</td>\n",
       "      <td>??</td>\n",
       "      <td>PC</td>\n",
       "    </tr>\n",
       "  </tbody>\n",
       "</table>\n",
       "</div>"
      ],
      "text/plain": [
       "             0       1    2\n",
       "0           제목      장르  플랫폼\n",
       "1          리니지  MMORPG   PC\n",
       "2         리니지2  MMORPG   PC\n",
       "3         리니지2  MMORPG   PC\n",
       "4   아이온: 영원의 탑  MMORPG   PC\n",
       "5   아이온: 영원의 탑  MMORPG   PC\n",
       "6    블레이드 앤 소울  MMORPG   PC\n",
       "7          길드워  MMORPG   PC\n",
       "8          길드워  MMORPG   PC\n",
       "9         길드워2  MMORPG   PC\n",
       "10      와일드 스타  MMORPG   PC\n",
       "11         MXM   슈팅 액션   PC\n",
       "12         작룡문    보드게임   PC\n",
       "13   시티 오브 히어로  MMORPG   PC\n",
       "14   마법학교 아르피아  MMORPG   PC\n",
       "15        비쥬마츄    퍼즐게임   PC\n",
       "16        명인장기    보드게임   PC\n",
       "17       클래식맞고    보드게임   PC\n",
       "18        선언맞고    보드게임   PC\n",
       "19        골든포커    보드게임   PC\n",
       "20      미션아르피아      ??   PC"
      ]
     },
     "execution_count": 11,
     "metadata": {},
     "output_type": "execute_result"
    }
   ],
   "source": [
    "표목록[0]"
   ]
  },
  {
   "cell_type": "code",
   "execution_count": 12,
   "metadata": {
    "collapsed": false
   },
   "outputs": [
    {
     "data": {
      "text/html": [
       "<div>\n",
       "<table border=\"1\" class=\"dataframe\">\n",
       "  <thead>\n",
       "    <tr style=\"text-align: right;\">\n",
       "      <th></th>\n",
       "      <th>0</th>\n",
       "      <th>1</th>\n",
       "      <th>2</th>\n",
       "      <th>3</th>\n",
       "    </tr>\n",
       "  </thead>\n",
       "  <tbody>\n",
       "    <tr>\n",
       "      <th>0</th>\n",
       "      <td>제목</td>\n",
       "      <td>장르</td>\n",
       "      <td>플랫폼</td>\n",
       "      <td>출시예정일</td>\n",
       "    </tr>\n",
       "    <tr>\n",
       "      <th>1</th>\n",
       "      <td>리니지 이터널</td>\n",
       "      <td>MMORPG</td>\n",
       "      <td>PC</td>\n",
       "      <td>미정</td>\n",
       "    </tr>\n",
       "    <tr>\n",
       "      <th>2</th>\n",
       "      <td>MXM</td>\n",
       "      <td>MOBA</td>\n",
       "      <td>PC</td>\n",
       "      <td>TBA 2016</td>\n",
       "    </tr>\n",
       "    <tr>\n",
       "      <th>3</th>\n",
       "      <td>AION Legions</td>\n",
       "      <td>RPG</td>\n",
       "      <td>Mobile</td>\n",
       "      <td>TBA 2016</td>\n",
       "    </tr>\n",
       "    <tr>\n",
       "      <th>4</th>\n",
       "      <td>Lineage on Mobile</td>\n",
       "      <td>RPG</td>\n",
       "      <td>Mobile</td>\n",
       "      <td>TBA 2016</td>\n",
       "    </tr>\n",
       "    <tr>\n",
       "      <th>5</th>\n",
       "      <td>Blade &amp; Soul Mobile</td>\n",
       "      <td>TCG</td>\n",
       "      <td>Mobile</td>\n",
       "      <td>2016년 3월 7일 중국 론칭</td>\n",
       "    </tr>\n",
       "    <tr>\n",
       "      <th>6</th>\n",
       "      <td>Lineage Red Knights</td>\n",
       "      <td>TCG</td>\n",
       "      <td>Mobile</td>\n",
       "      <td>TBA 2016</td>\n",
       "    </tr>\n",
       "  </tbody>\n",
       "</table>\n",
       "</div>"
      ],
      "text/plain": [
       "                     0       1       2                  3\n",
       "0                   제목      장르     플랫폼              출시예정일\n",
       "1              리니지 이터널  MMORPG      PC                 미정\n",
       "2                  MXM    MOBA      PC           TBA 2016\n",
       "3         AION Legions     RPG  Mobile           TBA 2016\n",
       "4    Lineage on Mobile     RPG  Mobile           TBA 2016\n",
       "5  Blade & Soul Mobile     TCG  Mobile  2016년 3월 7일 중국 론칭\n",
       "6  Lineage Red Knights     TCG  Mobile           TBA 2016"
      ]
     },
     "execution_count": 12,
     "metadata": {},
     "output_type": "execute_result"
    }
   ],
   "source": [
    "표목록[1]"
   ]
  },
  {
   "cell_type": "markdown",
   "metadata": {},
   "source": [
    "문서 내 표를 각각 엑셀시트로 내보내기"
   ]
  },
  {
   "cell_type": "code",
   "execution_count": 13,
   "metadata": {
    "collapsed": false
   },
   "outputs": [
    {
     "data": {
      "text/plain": [
       "'NCGames.xlsx'"
      ]
     },
     "execution_count": 13,
     "metadata": {},
     "output_type": "execute_result"
    }
   ],
   "source": [
    "doc.tables_to_excel('NCGames.xlsx')"
   ]
  },
  {
   "cell_type": "markdown",
   "metadata": {},
   "source": [
    "## 워드 파일 쓰기 "
   ]
  },
  {
   "cell_type": "code",
   "execution_count": 14,
   "metadata": {
    "collapsed": false
   },
   "outputs": [],
   "source": [
    "doc = office.Word()\n",
    "doc.add_paragraph('업무자동화를 위한 파이썬')\n",
    "doc.save('오토 파이썬.docx')"
   ]
  },
  {
   "cell_type": "markdown",
   "metadata": {},
   "source": [
    "이어쓰기"
   ]
  },
  {
   "cell_type": "code",
   "execution_count": 15,
   "metadata": {
    "collapsed": true
   },
   "outputs": [],
   "source": [
    "문서파일명 = '오토 파이썬.docx'"
   ]
  },
  {
   "cell_type": "code",
   "execution_count": 16,
   "metadata": {
    "collapsed": true
   },
   "outputs": [],
   "source": [
    "doc = office.Word(문서파일명)\n",
    "doc.add_paragraph('이성주, seongjoo@codebasic.co')\n",
    "doc.save(문서파일명)"
   ]
  },
  {
   "cell_type": "markdown",
   "metadata": {},
   "source": [
    "#### 제목 추가"
   ]
  },
  {
   "cell_type": "code",
   "execution_count": 17,
   "metadata": {
    "collapsed": false
   },
   "outputs": [],
   "source": [
    "doc = office.Word(문서파일명)\n",
    "doc.add_heading('업무자동화를 위한 파이썬', 0)\n",
    "doc.add_heading('파일과 폴더', 1)\n",
    "doc.add_heading('웹스크래핑', 1)\n",
    "doc.add_heading('오피스 파일', 1)\n",
    "doc.add_heading('마우스 키보드 조작', 1)\n",
    "doc.save(문서파일명)"
   ]
  },
  {
   "cell_type": "markdown",
   "metadata": {},
   "source": [
    "#### 표 추가"
   ]
  },
  {
   "cell_type": "code",
   "execution_count": 18,
   "metadata": {
    "collapsed": false
   },
   "outputs": [
    {
     "name": "stderr",
     "output_type": "stream",
     "text": [
      "/Users/seongjoo/anaconda/lib/python3.5/site-packages/docx/styles/styles.py:54: UserWarning: style lookup by style_id is deprecated. Use style name as key instead.\n",
      "  warn(msg, UserWarning)\n"
     ]
    }
   ],
   "source": [
    "doc = office.Word(문서파일명)\n",
    "doc.add_heading('과정개요', 2)\n",
    "doc.add_tables_from_excel('../data/curriculum.xlsx')\n",
    "doc.save(문서파일명)"
   ]
  },
  {
   "cell_type": "markdown",
   "metadata": {},
   "source": [
    "#### 그림 추가"
   ]
  },
  {
   "cell_type": "code",
   "execution_count": 19,
   "metadata": {
    "collapsed": false
   },
   "outputs": [],
   "source": [
    "doc = office.Word(문서파일명)\n",
    "doc.add_paragraph('... 우리가 궁극적으로 달성하고자 하는 것은 ... 게으름')\n",
    "doc.add_picture('../data/lazy_dog.jpg', width=5, height=5)\n",
    "doc.save(문서파일명)"
   ]
  },
  {
   "cell_type": "code",
   "execution_count": null,
   "metadata": {
    "collapsed": true
   },
   "outputs": [],
   "source": []
  }
 ],
 "metadata": {
  "kernelspec": {
   "display_name": "Python 3",
   "language": "python",
   "name": "python3"
  },
  "language_info": {
   "codemirror_mode": {
    "name": "ipython",
    "version": 3
   },
   "file_extension": ".py",
   "mimetype": "text/x-python",
   "name": "python",
   "nbconvert_exporter": "python",
   "pygments_lexer": "ipython3",
   "version": "3.5.1"
  }
 },
 "nbformat": 4,
 "nbformat_minor": 0
}

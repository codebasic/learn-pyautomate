{
 "cells": [
  {
   "cell_type": "code",
   "execution_count": 1,
   "metadata": {
    "collapsed": true
   },
   "outputs": [],
   "source": [
    "import time\n",
    "\n",
    "from bigpython import webscrap"
   ]
  },
  {
   "cell_type": "code",
   "execution_count": 2,
   "metadata": {
    "collapsed": false
   },
   "outputs": [
    {
     "name": "stdout",
     "output_type": "stream",
     "text": [
      "chromedriver 다운로드\n",
      "File already exists\n",
      "chromedriver_mac32.zip\n",
      "다운로드 받은 파일 압축 해제 ...\n"
     ]
    },
    {
     "data": {
      "text/plain": [
       "'chromedriver'"
      ]
     },
     "execution_count": 2,
     "metadata": {},
     "output_type": "execute_result"
    }
   ],
   "source": [
    "webscrap.setup_webdriver()"
   ]
  },
  {
   "cell_type": "markdown",
   "metadata": {},
   "source": [
    "지속적으로 갱신되는 웹페이지의 정보를 가져오고자 하는 경우"
   ]
  },
  {
   "cell_type": "code",
   "execution_count": 3,
   "metadata": {
    "collapsed": true
   },
   "outputs": [],
   "source": [
    "target_url = 'http://finance.naver.com/'"
   ]
  },
  {
   "cell_type": "code",
   "execution_count": 5,
   "metadata": {
    "collapsed": false
   },
   "outputs": [
    {
     "data": {
      "text/plain": [
       "[<span class=\"num\">1,959.32</span>,\n",
       " <span class=\"num\">669.69</span>,\n",
       " <span class=\"num\">242.80</span>]"
      ]
     },
     "execution_count": 5,
     "metadata": {},
     "output_type": "execute_result"
    }
   ],
   "source": [
    "html = webscrap.get_html(target_url)\n",
    "html.select(\".num_quot.up > .num\")"
   ]
  },
  {
   "cell_type": "code",
   "execution_count": null,
   "metadata": {
    "collapsed": false
   },
   "outputs": [
    {
     "name": "stdout",
     "output_type": "stream",
     "text": [
      "2016.06.29 14:36장중\t KOSPI: 1959.73\n",
      "2016.06.29 14:36장중\t KOSPI: 1959.32"
     ]
    }
   ],
   "source": [
    "chrome =  webscrap.get_browser()\n",
    "chrome.get(target_url)\n",
    "print('페이지 로딩 완료가 확실해질 가능성이 높은 시간까지 대기 ...')\n",
    "time.sleep(3)\n",
    "\n",
    "for i in range(10):\n",
    "    KOSPI지표_요소 = chrome.find_element_by_css_selector(\".num_quot.up > .num\")\n",
    "    시간표시_요소 = chrome.find_element_by_id('time')\n",
    "\n",
    "    KOSPI지표 = KOSPI지표_요소.text\n",
    "    KOSPI지표 = KOSPI지표.replace(',', '')\n",
    "    KOSPI지표 = float(KOSPI지표)\n",
    "\n",
    "    시간 = 시간표시_요소.text\n",
    "\n",
    "    print('{}\\t KOSPI: {}'.format(시간, KOSPI지표))\n",
    "    \n",
    "    time.sleep(10)\n",
    "    \n",
    "chrome.quit()"
   ]
  },
  {
   "cell_type": "code",
   "execution_count": null,
   "metadata": {
    "collapsed": true
   },
   "outputs": [],
   "source": []
  }
 ],
 "metadata": {
  "kernelspec": {
   "display_name": "Python 3",
   "language": "python",
   "name": "python3"
  },
  "language_info": {
   "codemirror_mode": {
    "name": "ipython",
    "version": 3
   },
   "file_extension": ".py",
   "mimetype": "text/x-python",
   "name": "python",
   "nbconvert_exporter": "python",
   "pygments_lexer": "ipython3",
   "version": "3.5.1"
  }
 },
 "nbformat": 4,
 "nbformat_minor": 0
}

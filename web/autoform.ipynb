{
 "cells": [
  {
   "cell_type": "code",
   "execution_count": 1,
   "metadata": {
    "collapsed": true
   },
   "outputs": [],
   "source": [
    "import sys, os\n",
    "\n",
    "sys.path.append(os.path.abspath('../packages/'))"
   ]
  },
  {
   "cell_type": "code",
   "execution_count": 2,
   "metadata": {
    "collapsed": true
   },
   "outputs": [],
   "source": [
    "from bigpy import webscrap"
   ]
  },
  {
   "cell_type": "markdown",
   "metadata": {},
   "source": [
    "## 웹드라이버 설정\n",
    "\n",
    "파이썬 의존 패키지에 필요한 별도의 드라이버 파일을 자동으로 설정. 다운로드, 압축해제, 테스트 수행까지 자동화"
   ]
  },
  {
   "cell_type": "code",
   "execution_count": 3,
   "metadata": {
    "collapsed": false
   },
   "outputs": [
    {
     "name": "stdout",
     "output_type": "stream",
     "text": [
      "Requirement already satisfied (use --upgrade to upgrade): selenium in /Users/seongjoo/anaconda/lib/python3.5/site-packages\n"
     ]
    },
    {
     "name": "stderr",
     "output_type": "stream",
     "text": [
      "You are using pip version 8.1.1, however version 8.1.2 is available.\n",
      "You should consider upgrading via the 'pip install --upgrade pip' command.\n"
     ]
    },
    {
     "name": "stdout",
     "output_type": "stream",
     "text": [
      "chromedriver 다운로드\n",
      "File already exists\n",
      "chromedriver_mac32.zip\n",
      "다운로드 받은 파일 압축 해제 ...\n",
      "설정 테스트 ... 완료\n"
     ]
    }
   ],
   "source": [
    "webscrap.setup_webdriver()"
   ]
  },
  {
   "cell_type": "code",
   "execution_count": 6,
   "metadata": {
    "collapsed": false
   },
   "outputs": [
    {
     "name": "stdout",
     "output_type": "stream",
     "text": [
      "뿅!\n"
     ]
    }
   ],
   "source": [
    "import time\n",
    "time.sleep(3)\n",
    "print('뿅!')"
   ]
  },
  {
   "cell_type": "code",
   "execution_count": 5,
   "metadata": {
    "collapsed": false
   },
   "outputs": [],
   "source": [
    "chrome = webscrap.get_browser()\n",
    "chrome.get('http://google.com')\n",
    "time.sleep(5)\n",
    "\n",
    "검색상자 = chrome.find_element_by_name('q')\n",
    "검색상자.send_keys('파이썬')\n",
    "검색상자.submit()\n",
    "\n",
    "time.sleep(5) # Let the user actually see something!\n",
    "\n",
    "chrome.quit()"
   ]
  },
  {
   "cell_type": "code",
   "execution_count": 3,
   "metadata": {
    "collapsed": false
   },
   "outputs": [],
   "source": [
    "chrome = webscrap.get_browser()\n",
    "\n",
    "# 네이버 홈페이지 로그인 양식 작성\n",
    "chrome.get('http://www.naver.com')\n",
    "form_id = chrome.find_element_by_id('id')\n",
    "form_pw = chrome.find_element_by_id('pw')\n",
    "\n",
    "form_id.send_keys('no-such-user')\n",
    "form_pw.send_keys('1234')\n",
    "time.sleep(5)\n",
    "\n",
    "chrome.quit()"
   ]
  },
  {
   "cell_type": "code",
   "execution_count": 8,
   "metadata": {
    "collapsed": false
   },
   "outputs": [],
   "source": [
    "chrome = webscrap.get_browser()\n",
    "\n",
    "chrome.get('http://www.naver.com')\n",
    "time.sleep(3)\n",
    "\n",
    "검색상자 =  chrome.find_element_by_css_selector('#query')\n",
    "검색상자.send_keys('파이썬')\n",
    "time.sleep(3)\n",
    "\n",
    "검색상자.submit()\n",
    "time.sleep(5)\n",
    "\n",
    "chrome.quit()"
   ]
  },
  {
   "cell_type": "code",
   "execution_count": null,
   "metadata": {
    "collapsed": true
   },
   "outputs": [],
   "source": []
  }
 ],
 "metadata": {
  "kernelspec": {
   "display_name": "Python 3",
   "language": "python",
   "name": "python3"
  },
  "language_info": {
   "codemirror_mode": {
    "name": "ipython",
    "version": 3
   },
   "file_extension": ".py",
   "mimetype": "text/x-python",
   "name": "python",
   "nbconvert_exporter": "python",
   "pygments_lexer": "ipython3",
   "version": "3.5.1"
  }
 },
 "nbformat": 4,
 "nbformat_minor": 0
}

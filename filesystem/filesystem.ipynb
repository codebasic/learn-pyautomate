{
 "cells": [
  {
   "cell_type": "markdown",
   "metadata": {},
   "source": [
    "# 파일과 폴더 "
   ]
  },
  {
   "cell_type": "code",
   "execution_count": 2,
   "metadata": {
    "collapsed": true
   },
   "outputs": [],
   "source": [
    "import os"
   ]
  },
  {
   "cell_type": "code",
   "execution_count": 3,
   "metadata": {
    "collapsed": false
   },
   "outputs": [
    {
     "data": {
      "text/plain": [
       "'/Users/seongjoo/development/ncsoft/python-basic'"
      ]
     },
     "execution_count": 3,
     "metadata": {},
     "output_type": "execute_result"
    }
   ],
   "source": [
    "os.getcwd()"
   ]
  },
  {
   "cell_type": "markdown",
   "metadata": {},
   "source": [
    "#### 연습\n",
    "\n",
    "폴더 여러 개 한번에 생성하기\n",
    "1. ‘데이터/2016’ 폴더에 1월부터 12월까지 자료를 분류해 담을 수 있는 폴더를 생성\n",
    "1. 2010년부터 2015년까지 1과 같은 하위 경로를 갖는 연도별 폴더 생성\n",
    "1. 월별 폴더의 명칭을 01, 02, … 12 형식으로 생성"
   ]
  },
  {
   "cell_type": "code",
   "execution_count": null,
   "metadata": {
    "collapsed": true
   },
   "outputs": [],
   "source": [
    "for 월 in range(1,13):\n",
    "    os.makedirs(os.path.join('데이터', '2016', str(월)))"
   ]
  },
  {
   "cell_type": "code",
   "execution_count": 7,
   "metadata": {
    "collapsed": false
   },
   "outputs": [
    {
     "data": {
      "text/plain": [
       "['1', '10', '11', '12', '2', '3', '4', '5', '6', '7', '8', '9']"
      ]
     },
     "execution_count": 7,
     "metadata": {},
     "output_type": "execute_result"
    }
   ],
   "source": [
    "os.listdir('데이터/2016')"
   ]
  },
  {
   "cell_type": "code",
   "execution_count": 8,
   "metadata": {
    "collapsed": true
   },
   "outputs": [],
   "source": [
    "for 연도 in range(2010, 2016):\n",
    "    for 월 in range(1,13):\n",
    "        os.makedirs(os.path.join('데이터', str(연도), str(월)))"
   ]
  },
  {
   "cell_type": "code",
   "execution_count": 10,
   "metadata": {
    "collapsed": false
   },
   "outputs": [
    {
     "data": {
      "text/plain": [
       "['2010', '2011', '2012', '2013', '2014', '2015', '2016']"
      ]
     },
     "execution_count": 10,
     "metadata": {},
     "output_type": "execute_result"
    }
   ],
   "source": [
    "os.listdir('데이터')"
   ]
  },
  {
   "cell_type": "code",
   "execution_count": 12,
   "metadata": {
    "collapsed": false
   },
   "outputs": [
    {
     "data": {
      "text/plain": [
       "'01'"
      ]
     },
     "execution_count": 12,
     "metadata": {},
     "output_type": "execute_result"
    }
   ],
   "source": [
    "'{:02d}'.format(1)"
   ]
  },
  {
   "cell_type": "code",
   "execution_count": 13,
   "metadata": {
    "collapsed": true
   },
   "outputs": [],
   "source": [
    "for 월 in range(1,13):\n",
    "    os.makedirs(os.path.join('데이터', '2017','{:02d}'.format(월)))"
   ]
  },
  {
   "cell_type": "markdown",
   "metadata": {},
   "source": [
    "# 파일 입출력 "
   ]
  },
  {
   "cell_type": "markdown",
   "metadata": {},
   "source": [
    "## 파일 읽기 "
   ]
  },
  {
   "cell_type": "code",
   "execution_count": 25,
   "metadata": {
    "collapsed": false
   },
   "outputs": [
    {
     "name": "stdout",
     "output_type": "stream",
     "text": [
      "앨런 매티슨 튜링(영어: Alan Mathison Turing, OBE, FRS, 1912년 6월 23일 ~ 1954년 6월 7일)은 영국의 수학자, 암호학자, 논리학자이자 컴퓨터 과학의 선구적 인물이다. 알고리즘과 계산 개념을 튜링 기계라는 추상 모델을 통해 형식화함으로써 컴퓨터 과학의 발전에 지대한 공헌을 했다. 튜링 테스트의 고안으로도 유명하다. ACM에서 컴퓨터 과학에 중요한 업적을 남긴 사람들에게 매년 시상하는 튜링상은 그의 이름을 따 제정한 것이다. 이론 컴퓨터 과학과 인공지능 분야에 지대한 공헌을 했기 때문에 \"컴퓨터 과학의 아버지\"라고 불린다.\n",
      "\n",
      "1945년에 그가 고안한 튜링 머신은 초보적 형태의 컴퓨터로, 복잡한 계산과 논리 문제를 처리할 수 있었다. 하지만 튜링은 1952년에 당시에는 범죄로 취급되던 동성애 혐의로 영국 경찰에 체포돼 유죄 판결을 받았다.[5] 감옥에 가는 대신 화학적 거세를 받아야 했던 그는, 2년 뒤 청산가리를 넣은 사과를 먹고 자살했다.\n",
      "\n",
      "사후 59년만인 2013년 12월 24일에 엘리자베스 2세 여왕이 크리스 그레일링 법무부 장관의 건의를 받아들여 튜링의 동성애 죄를 사면하였다. 이어서 무죄 판결을 받고 복권되었다.\n",
      "\n"
     ]
    }
   ],
   "source": [
    "튜링파일 = open('data/앨런튜링.txt')\n",
    "내용 = 튜링파일.read()\n",
    "튜링파일.close()\n",
    "\n",
    "print(내용)"
   ]
  },
  {
   "cell_type": "markdown",
   "metadata": {},
   "source": [
    "각 줄을 항목으로 갖는 리스트로 읽어오기"
   ]
  },
  {
   "cell_type": "code",
   "execution_count": 41,
   "metadata": {
    "collapsed": false
   },
   "outputs": [
    {
     "name": "stdout",
     "output_type": "stream",
     "text": [
      "사후 59년만인 2013년 12월 24일에 엘리자베스 2세 여왕이 크리스 그레일링 법무부 장관의 건의를 받아들여 튜링의 동성애 죄를 사면하였다. 이어서 무죄 판결을 받고 복권되었다.\n",
      "\n"
     ]
    }
   ],
   "source": [
    "튜링파일 = open('data/앨런튜링.txt')\n",
    "내용 = 튜링파일.readlines()\n",
    "튜링파일.close()\n",
    "\n",
    "print(내용[-1]) # 마지막 줄 출력"
   ]
  },
  {
   "cell_type": "markdown",
   "metadata": {},
   "source": [
    "닫은 파일은 다시 읽을 수 없다."
   ]
  },
  {
   "cell_type": "code",
   "execution_count": 26,
   "metadata": {
    "collapsed": false
   },
   "outputs": [
    {
     "ename": "ValueError",
     "evalue": "I/O operation on closed file.",
     "output_type": "error",
     "traceback": [
      "\u001b[0;31m---------------------------------------------------------------------------\u001b[0m",
      "\u001b[0;31mValueError\u001b[0m                                Traceback (most recent call last)",
      "\u001b[0;32m<ipython-input-26-10a9d27c1b56>\u001b[0m in \u001b[0;36m<module>\u001b[0;34m()\u001b[0m\n\u001b[0;32m----> 1\u001b[0;31m \u001b[0m튜링파일\u001b[0m\u001b[0;34m.\u001b[0m\u001b[0mread\u001b[0m\u001b[0;34m(\u001b[0m\u001b[0;34m)\u001b[0m\u001b[0;34m\u001b[0m\u001b[0m\n\u001b[0m",
      "\u001b[0;31mValueError\u001b[0m: I/O operation on closed file."
     ]
    }
   ],
   "source": [
    "튜링파일.read()"
   ]
  },
  {
   "cell_type": "markdown",
   "metadata": {},
   "source": [
    "### 파일 커서 (cursor)"
   ]
  },
  {
   "cell_type": "markdown",
   "metadata": {},
   "source": [
    "read()를 수행하면 파일읽기의 시작지점, 즉 커서가 파일의 끝으로 진행된다."
   ]
  },
  {
   "cell_type": "code",
   "execution_count": 60,
   "metadata": {
    "collapsed": false
   },
   "outputs": [
    {
     "name": "stdout",
     "output_type": "stream",
     "text": [
      "\n"
     ]
    }
   ],
   "source": [
    "튜링파일 = open('data/앨런튜링.txt')\n",
    "튜링파일.read()\n",
    "내용 = 튜링파일.read()\n",
    "print(내용) # 출력없음"
   ]
  },
  {
   "cell_type": "code",
   "execution_count": 64,
   "metadata": {
    "collapsed": false
   },
   "outputs": [
    {
     "name": "stdout",
     "output_type": "stream",
     "text": [
      "0\n",
      "1350\n"
     ]
    }
   ],
   "source": [
    "튜링파일 = open('data/앨런튜링.txt')\n",
    "커서위치 = 튜링파일.tell()\n",
    "print(커서위치)\n",
    "튜링파일.read()\n",
    "커서위치=  튜링파일.tell()\n",
    "print(커서위치)"
   ]
  },
  {
   "cell_type": "markdown",
   "metadata": {},
   "source": [
    "커서의 마지막 위치는 파일의 크기와 같다."
   ]
  },
  {
   "cell_type": "code",
   "execution_count": 65,
   "metadata": {
    "collapsed": false
   },
   "outputs": [
    {
     "data": {
      "text/plain": [
       "1350"
      ]
     },
     "execution_count": 65,
     "metadata": {},
     "output_type": "execute_result"
    }
   ],
   "source": [
    "os.path.getsize('data/앨런튜링.txt')"
   ]
  },
  {
   "cell_type": "markdown",
   "metadata": {},
   "source": [
    "커서 위치를 지정할 수 있다."
   ]
  },
  {
   "cell_type": "code",
   "execution_count": 62,
   "metadata": {
    "collapsed": false
   },
   "outputs": [
    {
     "name": "stdout",
     "output_type": "stream",
     "text": [
      "앨런 매티슨 튜링(영어: Alan Mathison Turing, OBE, FRS, 1912년 6월 23일 ~ 1954년 6월 7일)은 영국의 수학자, 암호학자, 논리학자이자 컴퓨터 과학의 선구적 인물이다. 알고리즘과 계산 개념을 튜링 기계라는 추상 모델을 통해 형식화함으로써 컴퓨터 과학의 발전에 지대한 공헌을 했다. 튜링 테스트의 고안으로도 유명하다. ACM에서 컴퓨터 과학에 중요한 업적을 남긴 사람들에게 매년 시상하는 튜링상은 그의 이름을 따 제정한 것이다. 이론 컴퓨터 과학과 인공지능 분야에 지대한 공헌을 했기 때문에 \"컴퓨터 과학의 아버지\"라고 불린다.\n",
      "\n",
      "1945년에 그가 고안한 튜링 머신은 초보적 형태의 컴퓨터로, 복잡한 계산과 논리 문제를 처리할 수 있었다. 하지만 튜링은 1952년에 당시에는 범죄로 취급되던 동성애 혐의로 영국 경찰에 체포돼 유죄 판결을 받았다.[5] 감옥에 가는 대신 화학적 거세를 받아야 했던 그는, 2년 뒤 청산가리를 넣은 사과를 먹고 자살했다.\n",
      "\n",
      "사후 59년만인 2013년 12월 24일에 엘리자베스 2세 여왕이 크리스 그레일링 법무부 장관의 건의를 받아들여 튜링의 동성애 죄를 사면하였다. 이어서 무죄 판결을 받고 복권되었다.\n",
      "\n"
     ]
    }
   ],
   "source": [
    "튜링파일.seek(0)\n",
    "내용 = 튜링파일.read()\n",
    "print(내용)"
   ]
  },
  {
   "cell_type": "markdown",
   "metadata": {},
   "source": [
    "## 파일 쓰기"
   ]
  },
  {
   "cell_type": "code",
   "execution_count": 56,
   "metadata": {
    "collapsed": false
   },
   "outputs": [],
   "source": [
    "from random import sample\n",
    "\n",
    "f = open('data/럭키.txt', 'w')\n",
    "for i in range(10):\n",
    "    nums = sample(range(1,46), 6)\n",
    "    f.write(', '.join(map(str, nums)))\n",
    "    f.write('\\n')\n",
    "f.close()"
   ]
  },
  {
   "cell_type": "code",
   "execution_count": 57,
   "metadata": {
    "collapsed": false
   },
   "outputs": [
    {
     "name": "stdout",
     "output_type": "stream",
     "text": [
      "37, 8, 19, 2, 32, 31\n",
      "\n",
      "6, 29, 43, 7, 27, 32\n",
      "\n",
      "2, 24, 40, 18, 13, 21\n",
      "\n",
      "45, 11, 18, 40, 38, 21\n",
      "\n",
      "28, 45, 8, 30, 40, 7\n",
      "\n",
      "21, 30, 2, 6, 22, 29\n",
      "\n",
      "45, 38, 26, 31, 43, 22\n",
      "\n",
      "7, 17, 44, 12, 16, 25\n",
      "\n",
      "24, 7, 37, 28, 3, 16\n",
      "\n",
      "8, 36, 19, 10, 11, 5\n",
      "\n"
     ]
    }
   ],
   "source": [
    "비책파일 = open('data/럭키.txt')\n",
    "for 줄 in 비책파일:\n",
    "    print(줄)\n",
    "비책파일.close()"
   ]
  },
  {
   "cell_type": "markdown",
   "metadata": {},
   "source": [
    "내용 이어서 쓰기"
   ]
  },
  {
   "cell_type": "code",
   "execution_count": 58,
   "metadata": {
    "collapsed": false
   },
   "outputs": [
    {
     "name": "stdout",
     "output_type": "stream",
     "text": [
      "9, 43, 14, 4, 6, 25\n",
      "\n",
      "13, 5, 3, 33, 43, 20\n",
      "\n",
      "31, 17, 12, 29, 30, 45\n",
      "\n",
      "23, 29, 8, 41, 14, 4\n",
      "\n",
      "34, 19, 27, 30, 39, 1\n",
      "\n"
     ]
    }
   ],
   "source": [
    "from random import sample\n",
    "\n",
    "비책파일 = open('data/럭키.txt','a')\n",
    "for i in range(5):\n",
    "    새로또번호 = sample(range(1,46), 6)\n",
    "    비책파일.write(', '.join(map(str, 새로또번호)))\n",
    "    비책파일.write('\\n')\n",
    "비책파일.close()\n",
    "\n",
    "# 추가된 번호 확인\n",
    "비책파일 = open('data/럭키.txt')\n",
    "내용 = 비책파일.readlines()\n",
    "비책파일.close()\n",
    "\n",
    "for 줄 in 내용[-5:]:\n",
    "    print(줄)"
   ]
  },
  {
   "cell_type": "markdown",
   "metadata": {},
   "source": [
    "## 변수를 파일로 저장하기"
   ]
  },
  {
   "cell_type": "code",
   "execution_count": 66,
   "metadata": {
    "collapsed": false
   },
   "outputs": [
    {
     "name": "stdout",
     "output_type": "stream",
     "text": [
      "[[34, 14, 25, 37, 1, 20], [8, 16, 9, 28, 33, 12], [33, 17, 42, 1, 21, 12], [3, 9, 4, 45, 28, 36], [10, 39, 36, 23, 45, 43], [1, 30, 35, 6, 27, 8], [26, 18, 25, 13, 8, 7], [33, 17, 42, 29, 18, 7], [17, 40, 42, 2, 13, 28], [4, 44, 45, 7, 32, 43]]\n"
     ]
    }
   ],
   "source": [
    "번호목록 = []\n",
    "for i in range(10):\n",
    "    로또번호 = sample(range(1,46), 6)\n",
    "    번호목록.append(로또번호)\n",
    "    \n",
    "print(번호목록)"
   ]
  },
  {
   "cell_type": "markdown",
   "metadata": {},
   "source": [
    "\"선반(shelve)\"에 변수를 파일로 저장해 두기\n",
    "\n",
    "생성되는파일\n",
    "\n",
    "- 윈도우: .bak, .dat, .dir \n",
    "- OS X: .db"
   ]
  },
  {
   "cell_type": "code",
   "execution_count": 67,
   "metadata": {
    "collapsed": true
   },
   "outputs": [],
   "source": [
    "import shelve\n",
    "선반파일 = shelve.open('로또데이터')\n",
    "선반파일['로또번호'] = 번호목록\n",
    "선반파일.close()"
   ]
  },
  {
   "cell_type": "markdown",
   "metadata": {},
   "source": [
    "파일에 저장된 변수 가져오기"
   ]
  },
  {
   "cell_type": "code",
   "execution_count": 68,
   "metadata": {
    "collapsed": false
   },
   "outputs": [
    {
     "name": "stdout",
     "output_type": "stream",
     "text": [
      "[[34, 14, 25, 37, 1, 20], [8, 16, 9, 28, 33, 12], [33, 17, 42, 1, 21, 12], [3, 9, 4, 45, 28, 36], [10, 39, 36, 23, 45, 43], [1, 30, 35, 6, 27, 8], [26, 18, 25, 13, 8, 7], [33, 17, 42, 29, 18, 7], [17, 40, 42, 2, 13, 28], [4, 44, 45, 7, 32, 43]]\n"
     ]
    }
   ],
   "source": [
    "선반파일 = shelve.open('로또데이터')\n",
    "로또번호 = 선반파일['로또번호']\n",
    "print(로또번호)"
   ]
  }
 ],
 "metadata": {
  "kernelspec": {
   "display_name": "Python 3",
   "language": "python",
   "name": "python3"
  },
  "language_info": {
   "codemirror_mode": {
    "name": "ipython",
    "version": 3
   },
   "file_extension": ".py",
   "mimetype": "text/x-python",
   "name": "python",
   "nbconvert_exporter": "python",
   "pygments_lexer": "ipython3",
   "version": "3.5.1"
  }
 },
 "nbformat": 4,
 "nbformat_minor": 0
}

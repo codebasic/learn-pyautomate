{
 "cells": [
  {
   "cell_type": "code",
   "execution_count": 1,
   "metadata": {
    "collapsed": true
   },
   "outputs": [],
   "source": [
    "import sys, os\n",
    "sys.path.append(os.path.abspath('../packages/'))\n",
    "\n",
    "from bigpy.mail import EmailClient, EmailConfig"
   ]
  },
  {
   "cell_type": "markdown",
   "metadata": {},
   "source": [
    "# 이메일 "
   ]
  },
  {
   "cell_type": "markdown",
   "metadata": {
    "collapsed": true
   },
   "source": [
    "# Gmail 인증"
   ]
  },
  {
   "cell_type": "code",
   "execution_count": 58,
   "metadata": {
    "collapsed": false
   },
   "outputs": [
    {
     "name": "stdout",
     "output_type": "stream",
     "text": [
      "To authorize token, visit this url and follow the directions:\n",
      "  https://accounts.google.com/o/oauth2/auth?client_id=753022363866-fer9g39ukpmeetglrrcv8fat7b10b80m.apps.googleusercontent.com&redirect_uri=urn%3Aietf%3Awg%3Aoauth%3A2.0%3Aoob&response_type=code&scope=https%3A%2F%2Fmail.google.com%2F\n",
      "Enter verification code: \n"
     ]
    }
   ],
   "source": [
    "ps = subprocess.run(['./setup_gmail.sh'], stdin=subprocess.PIPE, stdout=subprocess.PIPE)\n",
    "print(ps.stdout.decode('utf-8'))"
   ]
  },
  {
   "cell_type": "markdown",
   "metadata": {},
   "source": [
    "## 이메일 읽기 "
   ]
  },
  {
   "cell_type": "markdown",
   "metadata": {},
   "source": [
    "Email 클라이언트 설정"
   ]
  },
  {
   "cell_type": "code",
   "execution_count": 2,
   "metadata": {
    "collapsed": false
   },
   "outputs": [
    {
     "name": "stdout",
     "output_type": "stream",
     "text": [
      "[b'seongjoo@codebasic.co authenticated (Success)']\n"
     ]
    }
   ],
   "source": [
    "gmail = EmailClient('imap.gmail.com', ssl=True, \n",
    "                    method={'oauth2': {'configfile': 'oauth2.cfg', 'section': 'GMAIL'}},\n",
    "                   debug=False)"
   ]
  },
  {
   "cell_type": "markdown",
   "metadata": {},
   "source": [
    "로그인"
   ]
  },
  {
   "cell_type": "markdown",
   "metadata": {},
   "source": [
    "제목 검색"
   ]
  },
  {
   "cell_type": "code",
   "execution_count": 3,
   "metadata": {
    "collapsed": false
   },
   "outputs": [
    {
     "name": "stdout",
     "output_type": "stream",
     "text": [
      "416 ['노현주', ' <hjooya@bloter.net>']\n",
      "Re: 빅파이 8월 강의 진행\n",
      "\n",
      "1314 ['전경민', ' <dovana2@gmail.com>']\n",
      "[빅파이] 전경민, 멀티캠퍼스\n",
      "\n",
      "1306 ['이진행', ' <jhlee@basis.co.kr>']\n",
      "[빅파이] 이진행, 멀티캠퍼스\n",
      "\n",
      "1318 ['장병욱', ' <bwjang0310@naver.com>']\n",
      "멀티캠퍼스 빅파이 수강생 장병욱입니다. \n",
      "\n",
      "424 ['노현주', ' <hjooya@bloter.net>']\n",
      "Re: 빅파이 8월 강의 진행\n",
      "\n",
      "425 ['노현주', ' <hjooya@bloter.net>']\n",
      "Re: 빅파이 8월 강의 진행\n",
      "\n",
      "427 ['노현주', ' <hjooya@bloter.net>']\n",
      "Re: 빅파이 8월 강의 진행\n",
      "\n",
      "429 ['노현주', ' <hjooya@bloter.net>']\n",
      "Re: 빅파이 8월 강의 진행\n",
      "\n",
      "430 ['노현주', ' <hjooya@bloter.net>']\n",
      "Re: 빅파이 8월 강의 진행\n",
      "\n",
      "765 ['Dongjun Suh <djsuh@kisti.re.kr>']\n",
      "빅파이 수업을 듣고있는 수강생입니다.\n",
      "\n",
      "392 ['노현주', ' <hjooya@bloter.net>']\n",
      "Re: 빅파이 35시간 기획\n",
      "\n",
      "1305 ['서종우', ' <sojongwoo@naver.com>']\n",
      "[빅파이]서종우, 멀티캠퍼스 \n",
      "\n",
      "440 ['노현주', ' <hjooya@bloter.net>']\n",
      "Re: 빅파이 8월 강의 진행\n",
      "\n",
      "409 ['노현주', ' <hjooya@bloter.net>']\n",
      "Re: 빅파이 35시간 기획\n",
      "\n",
      "410 ['노현주', ' <hjooya@bloter.net>']\n",
      "Re: 빅파이 35시간 기획\n",
      "\n",
      "1307 ['문미화', ' <greenamond@naver.com>']\n",
      "[빅파이] 문미화, 멀티캠퍼스\n",
      "\n",
      "1308 ['윤군', ' <koon74@naver.com>']\n",
      "[빅파이] 윤군, 멀티캠퍼스\n",
      "\n",
      "413 ['노현주', ' <hjooya@bloter.net>']\n",
      "Re: 빅파이 8월 강의 진행\n",
      "\n",
      "1310 ['kyung tae jung <amadeusjkt@gmail.com>']\n",
      "[빅파이] 정경태, 멀티캠퍼스\n",
      "\n",
      "1320 ['김재희', ' <jaehei@knfc.co.kr>']\n",
      "[빅파이] 김재희, 멀티캠퍼스\n",
      "\n"
     ]
    }
   ],
   "source": [
    "message_ids = gmail.search(['SUBJECT', '빅파이', 'TO', 'seongjoo@codebasic.co'])\n",
    "for subject in gmail.get_subjects(message_ids):\n",
    "    print(subject['ID'], end=' ')\n",
    "    print(subject['FROM'])\n",
    "    print(subject['Subject'], end='\\n\\n')"
   ]
  },
  {
   "cell_type": "markdown",
   "metadata": {},
   "source": [
    "로그아웃"
   ]
  },
  {
   "cell_type": "code",
   "execution_count": 4,
   "metadata": {
    "collapsed": false
   },
   "outputs": [
    {
     "data": {
      "text/plain": [
       "b'LOGOUT Requested'"
      ]
     },
     "execution_count": 4,
     "metadata": {},
     "output_type": "execute_result"
    }
   ],
   "source": [
    "gmail.logout()"
   ]
  },
  {
   "cell_type": "code",
   "execution_count": null,
   "metadata": {
    "collapsed": true
   },
   "outputs": [],
   "source": []
  }
 ],
 "metadata": {
  "kernelspec": {
   "display_name": "Python 3",
   "language": "python",
   "name": "python3"
  },
  "language_info": {
   "codemirror_mode": {
    "name": "ipython",
    "version": 3
   },
   "file_extension": ".py",
   "mimetype": "text/x-python",
   "name": "python",
   "nbconvert_exporter": "python",
   "pygments_lexer": "ipython3",
   "version": "3.5.1"
  }
 },
 "nbformat": 4,
 "nbformat_minor": 0
}
